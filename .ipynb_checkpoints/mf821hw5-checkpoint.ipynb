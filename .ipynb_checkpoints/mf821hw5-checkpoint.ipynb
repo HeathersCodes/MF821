{
 "cells": [
  {
   "cell_type": "code",
   "execution_count": 1,
   "id": "7ddf3607",
   "metadata": {},
   "outputs": [],
   "source": [
    "import numpy as np\n",
    "import pandas as pd\n",
    "import zipfile \n",
    "import os\n",
    "import matplotlib.pyplot as plt\n",
    "from datetime import datetime, date, timedelta\n",
    "import scipy.stats as stats\n",
    "import warnings\n",
    "warnings.filterwarnings(\"ignore\")"
   ]
  },
  {
   "cell_type": "markdown",
   "id": "6017c98b",
   "metadata": {},
   "source": [
    "# Question 1\n",
    "Adopt a constant rate liquidation plan.    \n",
    "That is, we will spread out the liquidation trade evenly from 10:00 AM to 3:00 PM.    \n",
    "What is value of the performance criteria after liquidation at 3:00 PM?"
   ]
  },
  {
   "cell_type": "markdown",
   "id": "dd08cb03",
   "metadata": {},
   "source": [
    "In these cases, I assume that trading volumes can be in floating format."
   ]
  },
  {
   "cell_type": "code",
   "execution_count": 2,
   "id": "23066ff5",
   "metadata": {},
   "outputs": [],
   "source": [
    "path = '/Users/heather0109/Downloads/client_2341_daniel/eq_trades_1min/'"
   ]
  },
  {
   "cell_type": "code",
   "execution_count": 3,
   "id": "6b5b8dbf",
   "metadata": {},
   "outputs": [
    {
     "data": {
      "text/html": [
       "<div>\n",
       "<style scoped>\n",
       "    .dataframe tbody tr th:only-of-type {\n",
       "        vertical-align: middle;\n",
       "    }\n",
       "\n",
       "    .dataframe tbody tr th {\n",
       "        vertical-align: top;\n",
       "    }\n",
       "\n",
       "    .dataframe thead th {\n",
       "        text-align: right;\n",
       "    }\n",
       "</style>\n",
       "<table border=\"1\" class=\"dataframe\">\n",
       "  <thead>\n",
       "    <tr style=\"text-align: right;\">\n",
       "      <th></th>\n",
       "      <th>Date</th>\n",
       "      <th>Ticker</th>\n",
       "      <th>TimeBarStart</th>\n",
       "      <th>FirstTradePrice</th>\n",
       "      <th>HighTradePrice</th>\n",
       "      <th>LowTradePrice</th>\n",
       "      <th>LastTradePrice</th>\n",
       "      <th>VolumeWeightPrice</th>\n",
       "      <th>Volume</th>\n",
       "      <th>TotalTrades</th>\n",
       "    </tr>\n",
       "  </thead>\n",
       "  <tbody>\n",
       "    <tr>\n",
       "      <th>0</th>\n",
       "      <td>20200324</td>\n",
       "      <td>BAC</td>\n",
       "      <td>04:00</td>\n",
       "      <td>19.00</td>\n",
       "      <td>19.00</td>\n",
       "      <td>18.96</td>\n",
       "      <td>18.96</td>\n",
       "      <td>18.98695</td>\n",
       "      <td>613</td>\n",
       "      <td>4</td>\n",
       "    </tr>\n",
       "    <tr>\n",
       "      <th>1</th>\n",
       "      <td>20200324</td>\n",
       "      <td>BAC</td>\n",
       "      <td>04:01</td>\n",
       "      <td>19.00</td>\n",
       "      <td>19.00</td>\n",
       "      <td>18.96</td>\n",
       "      <td>18.96</td>\n",
       "      <td>18.99990</td>\n",
       "      <td>41485</td>\n",
       "      <td>10</td>\n",
       "    </tr>\n",
       "    <tr>\n",
       "      <th>2</th>\n",
       "      <td>20200324</td>\n",
       "      <td>BAC</td>\n",
       "      <td>04:02</td>\n",
       "      <td>19.03</td>\n",
       "      <td>19.14</td>\n",
       "      <td>19.03</td>\n",
       "      <td>19.14</td>\n",
       "      <td>19.06008</td>\n",
       "      <td>1051</td>\n",
       "      <td>7</td>\n",
       "    </tr>\n",
       "    <tr>\n",
       "      <th>3</th>\n",
       "      <td>20200324</td>\n",
       "      <td>BAC</td>\n",
       "      <td>04:03</td>\n",
       "      <td>19.08</td>\n",
       "      <td>19.10</td>\n",
       "      <td>19.08</td>\n",
       "      <td>19.10</td>\n",
       "      <td>19.08051</td>\n",
       "      <td>391</td>\n",
       "      <td>4</td>\n",
       "    </tr>\n",
       "    <tr>\n",
       "      <th>4</th>\n",
       "      <td>20200324</td>\n",
       "      <td>BAC</td>\n",
       "      <td>04:04</td>\n",
       "      <td>19.10</td>\n",
       "      <td>19.50</td>\n",
       "      <td>19.10</td>\n",
       "      <td>19.50</td>\n",
       "      <td>19.43974</td>\n",
       "      <td>2286</td>\n",
       "      <td>10</td>\n",
       "    </tr>\n",
       "    <tr>\n",
       "      <th>...</th>\n",
       "      <td>...</td>\n",
       "      <td>...</td>\n",
       "      <td>...</td>\n",
       "      <td>...</td>\n",
       "      <td>...</td>\n",
       "      <td>...</td>\n",
       "      <td>...</td>\n",
       "      <td>...</td>\n",
       "      <td>...</td>\n",
       "      <td>...</td>\n",
       "    </tr>\n",
       "    <tr>\n",
       "      <th>867</th>\n",
       "      <td>20200324</td>\n",
       "      <td>BAC</td>\n",
       "      <td>19:55</td>\n",
       "      <td>20.87</td>\n",
       "      <td>20.90</td>\n",
       "      <td>20.87</td>\n",
       "      <td>20.90</td>\n",
       "      <td>20.88272</td>\n",
       "      <td>2605</td>\n",
       "      <td>13</td>\n",
       "    </tr>\n",
       "    <tr>\n",
       "      <th>868</th>\n",
       "      <td>20200324</td>\n",
       "      <td>BAC</td>\n",
       "      <td>19:56</td>\n",
       "      <td>20.87</td>\n",
       "      <td>20.90</td>\n",
       "      <td>20.86</td>\n",
       "      <td>20.90</td>\n",
       "      <td>20.88627</td>\n",
       "      <td>2415</td>\n",
       "      <td>14</td>\n",
       "    </tr>\n",
       "    <tr>\n",
       "      <th>869</th>\n",
       "      <td>20200324</td>\n",
       "      <td>BAC</td>\n",
       "      <td>19:57</td>\n",
       "      <td>20.95</td>\n",
       "      <td>21.00</td>\n",
       "      <td>20.91</td>\n",
       "      <td>20.95</td>\n",
       "      <td>20.96667</td>\n",
       "      <td>1837</td>\n",
       "      <td>13</td>\n",
       "    </tr>\n",
       "    <tr>\n",
       "      <th>870</th>\n",
       "      <td>20200324</td>\n",
       "      <td>BAC</td>\n",
       "      <td>19:58</td>\n",
       "      <td>20.90</td>\n",
       "      <td>20.90</td>\n",
       "      <td>20.87</td>\n",
       "      <td>20.89</td>\n",
       "      <td>20.88068</td>\n",
       "      <td>1099</td>\n",
       "      <td>8</td>\n",
       "    </tr>\n",
       "    <tr>\n",
       "      <th>871</th>\n",
       "      <td>20200324</td>\n",
       "      <td>BAC</td>\n",
       "      <td>19:59</td>\n",
       "      <td>20.87</td>\n",
       "      <td>20.89</td>\n",
       "      <td>20.87</td>\n",
       "      <td>20.88</td>\n",
       "      <td>20.87569</td>\n",
       "      <td>1063</td>\n",
       "      <td>10</td>\n",
       "    </tr>\n",
       "  </tbody>\n",
       "</table>\n",
       "<p>872 rows × 10 columns</p>\n",
       "</div>"
      ],
      "text/plain": [
       "         Date Ticker TimeBarStart  FirstTradePrice  HighTradePrice  \\\n",
       "0    20200324    BAC        04:00            19.00           19.00   \n",
       "1    20200324    BAC        04:01            19.00           19.00   \n",
       "2    20200324    BAC        04:02            19.03           19.14   \n",
       "3    20200324    BAC        04:03            19.08           19.10   \n",
       "4    20200324    BAC        04:04            19.10           19.50   \n",
       "..        ...    ...          ...              ...             ...   \n",
       "867  20200324    BAC        19:55            20.87           20.90   \n",
       "868  20200324    BAC        19:56            20.87           20.90   \n",
       "869  20200324    BAC        19:57            20.95           21.00   \n",
       "870  20200324    BAC        19:58            20.90           20.90   \n",
       "871  20200324    BAC        19:59            20.87           20.89   \n",
       "\n",
       "     LowTradePrice  LastTradePrice  VolumeWeightPrice  Volume  TotalTrades  \n",
       "0            18.96           18.96           18.98695     613            4  \n",
       "1            18.96           18.96           18.99990   41485           10  \n",
       "2            19.03           19.14           19.06008    1051            7  \n",
       "3            19.08           19.10           19.08051     391            4  \n",
       "4            19.10           19.50           19.43974    2286           10  \n",
       "..             ...             ...                ...     ...          ...  \n",
       "867          20.87           20.90           20.88272    2605           13  \n",
       "868          20.86           20.90           20.88627    2415           14  \n",
       "869          20.91           20.95           20.96667    1837           13  \n",
       "870          20.87           20.89           20.88068    1099            8  \n",
       "871          20.87           20.88           20.87569    1063           10  \n",
       "\n",
       "[872 rows x 10 columns]"
      ]
     },
     "execution_count": 3,
     "metadata": {},
     "output_type": "execute_result"
    }
   ],
   "source": [
    "unzip_file = zipfile.ZipFile(path+'20200324.zip', 'r')\n",
    "#unzip_file.namelist()\n",
    "open_file = unzip_file.open('20200324/B/BAC.csv')\n",
    "df = pd.read_csv(open_file)\n",
    "df"
   ]
  },
  {
   "cell_type": "code",
   "execution_count": 4,
   "id": "e8ab7c24",
   "metadata": {},
   "outputs": [
    {
     "name": "stdout",
     "output_type": "stream",
     "text": [
      "<class 'pandas.core.frame.DataFrame'>\n",
      "RangeIndex: 872 entries, 0 to 871\n",
      "Data columns (total 10 columns):\n",
      " #   Column             Non-Null Count  Dtype  \n",
      "---  ------             --------------  -----  \n",
      " 0   Date               872 non-null    int64  \n",
      " 1   Ticker             872 non-null    object \n",
      " 2   TimeBarStart       872 non-null    object \n",
      " 3   FirstTradePrice    872 non-null    float64\n",
      " 4   HighTradePrice     872 non-null    float64\n",
      " 5   LowTradePrice      872 non-null    float64\n",
      " 6   LastTradePrice     872 non-null    float64\n",
      " 7   VolumeWeightPrice  872 non-null    float64\n",
      " 8   Volume             872 non-null    int64  \n",
      " 9   TotalTrades        872 non-null    int64  \n",
      "dtypes: float64(5), int64(3), object(2)\n",
      "memory usage: 68.2+ KB\n"
     ]
    }
   ],
   "source": [
    "df.info()"
   ]
  },
  {
   "cell_type": "code",
   "execution_count": 5,
   "id": "8ebe8871",
   "metadata": {},
   "outputs": [
    {
     "data": {
      "text/html": [
       "<div>\n",
       "<style scoped>\n",
       "    .dataframe tbody tr th:only-of-type {\n",
       "        vertical-align: middle;\n",
       "    }\n",
       "\n",
       "    .dataframe tbody tr th {\n",
       "        vertical-align: top;\n",
       "    }\n",
       "\n",
       "    .dataframe thead th {\n",
       "        text-align: right;\n",
       "    }\n",
       "</style>\n",
       "<table border=\"1\" class=\"dataframe\">\n",
       "  <thead>\n",
       "    <tr style=\"text-align: right;\">\n",
       "      <th></th>\n",
       "      <th>Date</th>\n",
       "      <th>Ticker</th>\n",
       "      <th>TimeBarStart</th>\n",
       "      <th>FirstTradePrice</th>\n",
       "      <th>HighTradePrice</th>\n",
       "      <th>LowTradePrice</th>\n",
       "      <th>LastTradePrice</th>\n",
       "      <th>VolumeWeightPrice</th>\n",
       "      <th>Volume</th>\n",
       "      <th>TotalTrades</th>\n",
       "      <th>datetime</th>\n",
       "    </tr>\n",
       "  </thead>\n",
       "  <tbody>\n",
       "    <tr>\n",
       "      <th>0</th>\n",
       "      <td>20200324</td>\n",
       "      <td>BAC</td>\n",
       "      <td>04:00</td>\n",
       "      <td>19.00</td>\n",
       "      <td>19.00</td>\n",
       "      <td>18.96</td>\n",
       "      <td>18.96</td>\n",
       "      <td>18.98695</td>\n",
       "      <td>613</td>\n",
       "      <td>4</td>\n",
       "      <td>2020-03-24 04:00:00</td>\n",
       "    </tr>\n",
       "    <tr>\n",
       "      <th>1</th>\n",
       "      <td>20200324</td>\n",
       "      <td>BAC</td>\n",
       "      <td>04:01</td>\n",
       "      <td>19.00</td>\n",
       "      <td>19.00</td>\n",
       "      <td>18.96</td>\n",
       "      <td>18.96</td>\n",
       "      <td>18.99990</td>\n",
       "      <td>41485</td>\n",
       "      <td>10</td>\n",
       "      <td>2020-03-24 04:01:00</td>\n",
       "    </tr>\n",
       "    <tr>\n",
       "      <th>2</th>\n",
       "      <td>20200324</td>\n",
       "      <td>BAC</td>\n",
       "      <td>04:02</td>\n",
       "      <td>19.03</td>\n",
       "      <td>19.14</td>\n",
       "      <td>19.03</td>\n",
       "      <td>19.14</td>\n",
       "      <td>19.06008</td>\n",
       "      <td>1051</td>\n",
       "      <td>7</td>\n",
       "      <td>2020-03-24 04:02:00</td>\n",
       "    </tr>\n",
       "    <tr>\n",
       "      <th>3</th>\n",
       "      <td>20200324</td>\n",
       "      <td>BAC</td>\n",
       "      <td>04:03</td>\n",
       "      <td>19.08</td>\n",
       "      <td>19.10</td>\n",
       "      <td>19.08</td>\n",
       "      <td>19.10</td>\n",
       "      <td>19.08051</td>\n",
       "      <td>391</td>\n",
       "      <td>4</td>\n",
       "      <td>2020-03-24 04:03:00</td>\n",
       "    </tr>\n",
       "    <tr>\n",
       "      <th>4</th>\n",
       "      <td>20200324</td>\n",
       "      <td>BAC</td>\n",
       "      <td>04:04</td>\n",
       "      <td>19.10</td>\n",
       "      <td>19.50</td>\n",
       "      <td>19.10</td>\n",
       "      <td>19.50</td>\n",
       "      <td>19.43974</td>\n",
       "      <td>2286</td>\n",
       "      <td>10</td>\n",
       "      <td>2020-03-24 04:04:00</td>\n",
       "    </tr>\n",
       "    <tr>\n",
       "      <th>...</th>\n",
       "      <td>...</td>\n",
       "      <td>...</td>\n",
       "      <td>...</td>\n",
       "      <td>...</td>\n",
       "      <td>...</td>\n",
       "      <td>...</td>\n",
       "      <td>...</td>\n",
       "      <td>...</td>\n",
       "      <td>...</td>\n",
       "      <td>...</td>\n",
       "      <td>...</td>\n",
       "    </tr>\n",
       "    <tr>\n",
       "      <th>867</th>\n",
       "      <td>20200324</td>\n",
       "      <td>BAC</td>\n",
       "      <td>19:55</td>\n",
       "      <td>20.87</td>\n",
       "      <td>20.90</td>\n",
       "      <td>20.87</td>\n",
       "      <td>20.90</td>\n",
       "      <td>20.88272</td>\n",
       "      <td>2605</td>\n",
       "      <td>13</td>\n",
       "      <td>2020-03-24 19:55:00</td>\n",
       "    </tr>\n",
       "    <tr>\n",
       "      <th>868</th>\n",
       "      <td>20200324</td>\n",
       "      <td>BAC</td>\n",
       "      <td>19:56</td>\n",
       "      <td>20.87</td>\n",
       "      <td>20.90</td>\n",
       "      <td>20.86</td>\n",
       "      <td>20.90</td>\n",
       "      <td>20.88627</td>\n",
       "      <td>2415</td>\n",
       "      <td>14</td>\n",
       "      <td>2020-03-24 19:56:00</td>\n",
       "    </tr>\n",
       "    <tr>\n",
       "      <th>869</th>\n",
       "      <td>20200324</td>\n",
       "      <td>BAC</td>\n",
       "      <td>19:57</td>\n",
       "      <td>20.95</td>\n",
       "      <td>21.00</td>\n",
       "      <td>20.91</td>\n",
       "      <td>20.95</td>\n",
       "      <td>20.96667</td>\n",
       "      <td>1837</td>\n",
       "      <td>13</td>\n",
       "      <td>2020-03-24 19:57:00</td>\n",
       "    </tr>\n",
       "    <tr>\n",
       "      <th>870</th>\n",
       "      <td>20200324</td>\n",
       "      <td>BAC</td>\n",
       "      <td>19:58</td>\n",
       "      <td>20.90</td>\n",
       "      <td>20.90</td>\n",
       "      <td>20.87</td>\n",
       "      <td>20.89</td>\n",
       "      <td>20.88068</td>\n",
       "      <td>1099</td>\n",
       "      <td>8</td>\n",
       "      <td>2020-03-24 19:58:00</td>\n",
       "    </tr>\n",
       "    <tr>\n",
       "      <th>871</th>\n",
       "      <td>20200324</td>\n",
       "      <td>BAC</td>\n",
       "      <td>19:59</td>\n",
       "      <td>20.87</td>\n",
       "      <td>20.89</td>\n",
       "      <td>20.87</td>\n",
       "      <td>20.88</td>\n",
       "      <td>20.87569</td>\n",
       "      <td>1063</td>\n",
       "      <td>10</td>\n",
       "      <td>2020-03-24 19:59:00</td>\n",
       "    </tr>\n",
       "  </tbody>\n",
       "</table>\n",
       "<p>872 rows × 11 columns</p>\n",
       "</div>"
      ],
      "text/plain": [
       "         Date Ticker TimeBarStart  FirstTradePrice  HighTradePrice  \\\n",
       "0    20200324    BAC        04:00            19.00           19.00   \n",
       "1    20200324    BAC        04:01            19.00           19.00   \n",
       "2    20200324    BAC        04:02            19.03           19.14   \n",
       "3    20200324    BAC        04:03            19.08           19.10   \n",
       "4    20200324    BAC        04:04            19.10           19.50   \n",
       "..        ...    ...          ...              ...             ...   \n",
       "867  20200324    BAC        19:55            20.87           20.90   \n",
       "868  20200324    BAC        19:56            20.87           20.90   \n",
       "869  20200324    BAC        19:57            20.95           21.00   \n",
       "870  20200324    BAC        19:58            20.90           20.90   \n",
       "871  20200324    BAC        19:59            20.87           20.89   \n",
       "\n",
       "     LowTradePrice  LastTradePrice  VolumeWeightPrice  Volume  TotalTrades  \\\n",
       "0            18.96           18.96           18.98695     613            4   \n",
       "1            18.96           18.96           18.99990   41485           10   \n",
       "2            19.03           19.14           19.06008    1051            7   \n",
       "3            19.08           19.10           19.08051     391            4   \n",
       "4            19.10           19.50           19.43974    2286           10   \n",
       "..             ...             ...                ...     ...          ...   \n",
       "867          20.87           20.90           20.88272    2605           13   \n",
       "868          20.86           20.90           20.88627    2415           14   \n",
       "869          20.91           20.95           20.96667    1837           13   \n",
       "870          20.87           20.89           20.88068    1099            8   \n",
       "871          20.87           20.88           20.87569    1063           10   \n",
       "\n",
       "               datetime  \n",
       "0   2020-03-24 04:00:00  \n",
       "1   2020-03-24 04:01:00  \n",
       "2   2020-03-24 04:02:00  \n",
       "3   2020-03-24 04:03:00  \n",
       "4   2020-03-24 04:04:00  \n",
       "..                  ...  \n",
       "867 2020-03-24 19:55:00  \n",
       "868 2020-03-24 19:56:00  \n",
       "869 2020-03-24 19:57:00  \n",
       "870 2020-03-24 19:58:00  \n",
       "871 2020-03-24 19:59:00  \n",
       "\n",
       "[872 rows x 11 columns]"
      ]
     },
     "execution_count": 5,
     "metadata": {},
     "output_type": "execute_result"
    }
   ],
   "source": [
    "df['Date'] =  df['Date'].apply(lambda x: str(x))\n",
    "df['datetime'] = pd.to_datetime(df['Date'] + ' ' + df['TimeBarStart'])\n",
    "df"
   ]
  },
  {
   "cell_type": "code",
   "execution_count": 6,
   "id": "df644467",
   "metadata": {},
   "outputs": [],
   "source": [
    "delta = timedelta(minutes=1)"
   ]
  },
  {
   "cell_type": "code",
   "execution_count": 7,
   "id": "6d0e189c",
   "metadata": {},
   "outputs": [
    {
     "data": {
      "text/plain": [
       "300.0"
      ]
     },
     "execution_count": 7,
     "metadata": {},
     "output_type": "execute_result"
    }
   ],
   "source": [
    "#check missing value\n",
    "abs(df.index[df['TimeBarStart']=='10:00'][0] - df.index[df['TimeBarStart']=='15:00'][0])\n",
    "alpha = 0.00001\n",
    "coef = 0.00001\n",
    "df[df['TimeBarStart']=='10:00']['datetime'] + delta\n",
    "df[df['TimeBarStart']=='10:00']['datetime'].iloc[0] + delta\n",
    "df[df['TimeBarStart']=='10:00']['VolumeWeightPrice'].iloc[0]\n",
    "s = df[df['TimeBarStart']=='15:00']['datetime'].iloc[0] - df[df['TimeBarStart']=='10:00']['datetime'].iloc[0] \n",
    "s.total_seconds() / 60"
   ]
  },
  {
   "cell_type": "code",
   "execution_count": 24,
   "id": "6b0994a7",
   "metadata": {},
   "outputs": [],
   "source": [
    "class TradingSimu():\n",
    "    \n",
    "    def __init__(self, df=df, start='10:00', end='15:00', sell_volu=200000, alpha=0.00001, coef=0.00001, X0=0, Q0=400000,delta=delta):\n",
    "        '''\n",
    "        self.start = 2020-03-24 10:00:00\n",
    "        '''\n",
    "    \n",
    "        self.df = df\n",
    "        self.start = df[df['TimeBarStart']==start]['datetime'].iloc[0]\n",
    "        #self.timepass = self.start\n",
    "        self.end = df[df['TimeBarStart']==end]['datetime'].iloc[0]\n",
    "        self.N = (self.end - self.start).total_seconds() / 60\n",
    "        self.sell_volu = sell_volu\n",
    "        self.alpha = alpha\n",
    "        self.coef = coef\n",
    "        self.Xt = X0\n",
    "        self.Q0 = Q0\n",
    "        self.Qt = Q0\n",
    "        #self.shares = sell_volu / self.N\n",
    "        #self.count = 0\n",
    "        #df[df['datetime']==time]['Volume'].iloc[0]\n",
    "        self.p3_penlty = 0\n",
    "        self.p2 = 0\n",
    "        self.delta=delta\n",
    "        \n",
    "        \n",
    "    def St(self, time, stypes=True):\n",
    "        vwp = self.df[self.df['datetime']==time]['VolumeWeightPrice'].iloc[0]\n",
    "        if stypes:\n",
    "            price = vwp\n",
    "            return price\n",
    "        else: #𝑆𝑡 = 𝜇𝑡 − 𝛼𝑄𝑡\n",
    "            price = vwp - self.alpha * self.Qt\n",
    "            return price\n",
    "        \n",
    "       \n",
    "    def shares(self, time, limit=False):\n",
    "        '''\n",
    "        I assume \n",
    "        Question 1 means the same trading volumns every trading minute\n",
    "        Question 2 means letting personal trading volumne: min(Qurstion 1, 0.1*trading_volume) \n",
    "        '''\n",
    "        \n",
    "        if limit == False:\n",
    "            \n",
    "            return self.sell_volu / self.N\n",
    "        \n",
    "        else:\n",
    "            result = min(self.sell_volu / self.N, \n",
    "                        self.df[self.df['datetime']==time]['Volume'].iloc[0] * 0.1)\n",
    "            return result\n",
    "            \n",
    "            \n",
    "    def calculator(self, time, stypes=True, limit=False):\n",
    "        '''\n",
    "        stypes: true means vwp; False means 𝑆𝑡 = 𝜇𝑡 − 𝛼𝑄𝑡\n",
    "        '''    \n",
    "        self.Qt -= self.shares(time, limit)\n",
    "        \n",
    "        St = self.St(time, stypes)\n",
    "        \n",
    "        self.Xt += St * self.shares(time, limit)\n",
    "        self.p2 = self.Qt * (St - alpha * self.Qt)\n",
    "        self.p3_penlty += self.coef * (self.Qt) ** 2\n",
    "        \n",
    "        result = self.Xt + self.p2 - self.p3_penlty        \n",
    "        return result\n",
    "    \n",
    "        \n",
    "    def simu_path(self, stypes=True, limit=False): #stypes means St\n",
    "        time = self.start + self.delta\n",
    "        result = 0\n",
    "        while time <= self.end:\n",
    "            result = self.calculator(time, stypes, limit)\n",
    "            time += self.delta\n",
    "        return result\n",
    "\n",
    "        \n",
    "        \n",
    "        "
   ]
  },
  {
   "cell_type": "code",
   "execution_count": 25,
   "id": "65f464fa",
   "metadata": {},
   "outputs": [
    {
     "data": {
      "text/plain": [
       "-271672083.0088846"
      ]
     },
     "execution_count": 25,
     "metadata": {},
     "output_type": "execute_result"
    }
   ],
   "source": [
    "Q1 = TradingSimu() \n",
    "Q1.simu_path()"
   ]
  },
  {
   "cell_type": "code",
   "execution_count": 26,
   "id": "e3e250ce",
   "metadata": {},
   "outputs": [],
   "source": [
    "#df.loc[(df['TimeBarStart'] >= '10:01') & (df['TimeBarStart'] <= '15:00')]"
   ]
  },
  {
   "cell_type": "markdown",
   "id": "cdc32fab",
   "metadata": {},
   "source": [
    "# Question 2\n",
    "Now, let’s assume you will cap your trade volume each minute to 10% of observed trading volume of that minute-bar    (note, in reality you, can’t observe the traded volume ahead of your trading, so suppose the trading volume were the bid size).    \n",
    "Will you be successful at liquidating all 200,000 shares by 3:00 PM? What will the value of performance criteria be at 3:00 PM, even if you are not successful?"
   ]
  },
  {
   "cell_type": "code",
   "execution_count": 27,
   "id": "8322ab45",
   "metadata": {},
   "outputs": [
    {
     "data": {
      "text/plain": [
       "-271672083.0088846"
      ]
     },
     "execution_count": 27,
     "metadata": {},
     "output_type": "execute_result"
    }
   ],
   "source": [
    "Q2 = TradingSimu() \n",
    "Q2.simu_path(limit=True)"
   ]
  },
  {
   "cell_type": "markdown",
   "id": "28d348e6",
   "metadata": {},
   "source": [
    "**Yes I'm successful at liquidating**"
   ]
  },
  {
   "cell_type": "markdown",
   "id": "40b6f135",
   "metadata": {},
   "source": [
    "# Question 3\n",
    "Now, let’s change the price impact assumption.  Suppose the reported volume-weighted average price is the “fundamental price”, ﻿mu subscript t﻿ The traded price is ﻿S subscript t equals mu subscript t minus alpha Q subscript t﻿, where ﻿Q subscript t﻿ is the cumulative volume sold up to (note this means that the impact is assessed every time you trade and is cumulative). And ﻿alpha﻿is 0.00001 as before. What are the values of the performance criteria for the liquidation plan in Q1 (constant rate of liquidation) [2 points] and Q2 (liquidation capped at 10% of observed volume) [3 points]"
   ]
  },
  {
   "cell_type": "code",
   "execution_count": 28,
   "id": "b7c326f4",
   "metadata": {},
   "outputs": [
    {
     "data": {
      "text/plain": [
       "-272671416.3422179"
      ]
     },
     "execution_count": 28,
     "metadata": {},
     "output_type": "execute_result"
    }
   ],
   "source": [
    "Q3_1 = TradingSimu()\n",
    "Q3_1.simu_path(stypes=False)"
   ]
  },
  {
   "cell_type": "code",
   "execution_count": 29,
   "id": "90bae180",
   "metadata": {},
   "outputs": [
    {
     "data": {
      "text/plain": [
       "-272671416.3422179"
      ]
     },
     "execution_count": 29,
     "metadata": {},
     "output_type": "execute_result"
    }
   ],
   "source": [
    "Q3_2 = TradingSimu() \n",
    "Q3_2.simu_path(stypes=False, limit=True)"
   ]
  },
  {
   "cell_type": "markdown",
   "id": "37641a0b",
   "metadata": {},
   "source": [
    "# Test"
   ]
  },
  {
   "cell_type": "code",
   "execution_count": 30,
   "id": "fad60ccf",
   "metadata": {},
   "outputs": [
    {
     "data": {
      "text/plain": [
       "199999.99999999691"
      ]
     },
     "execution_count": 30,
     "metadata": {},
     "output_type": "execute_result"
    }
   ],
   "source": [
    "Q2.Qt"
   ]
  },
  {
   "cell_type": "code",
   "execution_count": 31,
   "id": "6f0128fc",
   "metadata": {},
   "outputs": [
    {
     "data": {
      "text/plain": [
       "60789"
      ]
     },
     "execution_count": 31,
     "metadata": {},
     "output_type": "execute_result"
    }
   ],
   "source": [
    "min(df.loc[(df['TimeBarStart'] >= '10:00') & (df['TimeBarStart'] <= '15:00')]['Volume'])"
   ]
  },
  {
   "cell_type": "code",
   "execution_count": 32,
   "id": "e98016ee",
   "metadata": {},
   "outputs": [
    {
     "data": {
      "text/plain": [
       "666.6666666666666"
      ]
     },
     "execution_count": 32,
     "metadata": {},
     "output_type": "execute_result"
    }
   ],
   "source": [
    "200000 / 300"
   ]
  },
  {
   "cell_type": "code",
   "execution_count": 33,
   "id": "bcfb8084",
   "metadata": {},
   "outputs": [
    {
     "data": {
      "text/plain": [
       "200000"
      ]
     },
     "execution_count": 33,
     "metadata": {},
     "output_type": "execute_result"
    }
   ],
   "source": [
    "TradingSimu().N\n",
    "TradingSimu().sell_volu"
   ]
  },
  {
   "cell_type": "code",
   "execution_count": 38,
   "id": "01e52f35",
   "metadata": {},
   "outputs": [
    {
     "data": {
      "text/plain": [
       "11"
      ]
     },
     "execution_count": 38,
     "metadata": {},
     "output_type": "execute_result"
    }
   ],
   "source": [
    "def f(t=1):\n",
    "    for i in range(10):\n",
    "        t = r(t)\n",
    "    return t\n",
    "\n",
    "def r(t=2):\n",
    "    return t + 1\n",
    "f()"
   ]
  },
  {
   "cell_type": "code",
   "execution_count": null,
   "id": "ee6498cb",
   "metadata": {},
   "outputs": [],
   "source": []
  },
  {
   "cell_type": "code",
   "execution_count": null,
   "id": "2c037f21",
   "metadata": {},
   "outputs": [],
   "source": []
  },
  {
   "cell_type": "code",
   "execution_count": null,
   "id": "dd3ea521",
   "metadata": {},
   "outputs": [],
   "source": []
  }
 ],
 "metadata": {
  "kernelspec": {
   "display_name": "Python 3 (ipykernel)",
   "language": "python",
   "name": "python3"
  },
  "language_info": {
   "codemirror_mode": {
    "name": "ipython",
    "version": 3
   },
   "file_extension": ".py",
   "mimetype": "text/x-python",
   "name": "python",
   "nbconvert_exporter": "python",
   "pygments_lexer": "ipython3",
   "version": "3.9.13"
  }
 },
 "nbformat": 4,
 "nbformat_minor": 5
}
